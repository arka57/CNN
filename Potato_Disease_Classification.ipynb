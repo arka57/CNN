{
  "nbformat": 4,
  "nbformat_minor": 0,
  "metadata": {
    "colab": {
      "provenance": [],
      "authorship_tag": "ABX9TyNfBU7yDdLDYvKwdvrxN6vS",
      "include_colab_link": true
    },
    "kernelspec": {
      "name": "python3",
      "display_name": "Python 3"
    },
    "language_info": {
      "name": "python"
    }
  },
  "cells": [
    {
      "cell_type": "markdown",
      "metadata": {
        "id": "view-in-github",
        "colab_type": "text"
      },
      "source": [
        "<a href=\"https://colab.research.google.com/github/arka57/CNN/blob/main/Potato_Disease_Classification.ipynb\" target=\"_parent\"><img src=\"https://colab.research.google.com/assets/colab-badge.svg\" alt=\"Open In Colab\"/></a>"
      ]
    },
    {
      "cell_type": "markdown",
      "source": [
        "Importing Libraries"
      ],
      "metadata": {
        "id": "RB-FLmk5aoEa"
      }
    },
    {
      "cell_type": "code",
      "execution_count": 23,
      "metadata": {
        "id": "WTnsTEc_ahWS"
      },
      "outputs": [],
      "source": [
        "import numpy as np\n",
        "import pandas as pd\n",
        "import matplotlib.pyplot as plt\n",
        "import os\n",
        "from PIL import Image\n",
        "import torchvision as tv\n",
        "import torchvision.transforms as transforms\n",
        "from torch.utils.data import DataLoader, Dataset, random_split\n",
        "import torch\n",
        "import torch.nn as nn\n",
        "import torch.nn.functional as F\n",
        "import torch.optim as optim\n",
        "\n",
        "import torchvision"
      ]
    },
    {
      "cell_type": "code",
      "source": [
        "from google.colab import drive\n",
        "drive.mount('/gdrive')\n",
        "%cd /gdrive"
      ],
      "metadata": {
        "colab": {
          "base_uri": "https://localhost:8080/"
        },
        "id": "c4uon4PVcU9H",
        "outputId": "36ede244-327a-46be-df71-5a6ff9b89c90"
      },
      "execution_count": 2,
      "outputs": [
        {
          "output_type": "stream",
          "name": "stdout",
          "text": [
            "Mounted at /gdrive\n",
            "/gdrive\n"
          ]
        }
      ]
    },
    {
      "cell_type": "code",
      "source": [
        "cd MyDrive"
      ],
      "metadata": {
        "colab": {
          "base_uri": "https://localhost:8080/"
        },
        "id": "UBag6Bvackeg",
        "outputId": "6376c464-e8db-446e-bba7-535a44a0d83a"
      },
      "execution_count": 6,
      "outputs": [
        {
          "output_type": "stream",
          "name": "stdout",
          "text": [
            "/gdrive/MyDrive\n"
          ]
        }
      ]
    },
    {
      "cell_type": "code",
      "source": [
        "pwd"
      ],
      "metadata": {
        "colab": {
          "base_uri": "https://localhost:8080/",
          "height": 36
        },
        "id": "6sUMtZQulJdW",
        "outputId": "91776d5c-5072-44b3-b7a1-939d1feaa7f3"
      },
      "execution_count": 8,
      "outputs": [
        {
          "output_type": "execute_result",
          "data": {
            "text/plain": [
              "'/gdrive/MyDrive'"
            ],
            "application/vnd.google.colaboratory.intrinsic+json": {
              "type": "string"
            }
          },
          "metadata": {},
          "execution_count": 8
        }
      ]
    },
    {
      "cell_type": "code",
      "source": [
        "#Data PreProcessing"
      ],
      "metadata": {
        "id": "ugbgyrWaqgoY"
      },
      "execution_count": 9,
      "outputs": []
    },
    {
      "cell_type": "code",
      "source": [
        "transform = transforms.Compose([\n",
        "        transforms.RandomResizedCrop(224),\n",
        "        transforms.RandomHorizontalFlip(),\n",
        "        transforms.ToTensor(),\n",
        "        transforms.Normalize([0.485, 0.456, 0.406], [0.229, 0.224, 0.225])\n",
        "    ])"
      ],
      "metadata": {
        "id": "d_1TSref2mDG"
      },
      "execution_count": 10,
      "outputs": []
    },
    {
      "cell_type": "code",
      "source": [
        "#Loading the dataset "
      ],
      "metadata": {
        "id": "PUsFQhfeCfL-"
      },
      "execution_count": null,
      "outputs": []
    },
    {
      "cell_type": "code",
      "source": [
        "full_data = tv.datasets.ImageFolder(root=\"Potato_Disease_Classification\",transform=transform)"
      ],
      "metadata": {
        "id": "6EkmNBlFzBT4"
      },
      "execution_count": 11,
      "outputs": []
    },
    {
      "cell_type": "code",
      "source": [
        "full_data"
      ],
      "metadata": {
        "colab": {
          "base_uri": "https://localhost:8080/"
        },
        "id": "raIJBhQR1SaH",
        "outputId": "59b2c5b0-2ca4-4445-fc39-3e8e0e0ac60b"
      },
      "execution_count": 12,
      "outputs": [
        {
          "output_type": "execute_result",
          "data": {
            "text/plain": [
              "Dataset ImageFolder\n",
              "    Number of datapoints: 2152\n",
              "    Root location: Potato_Disease_Classification\n",
              "    StandardTransform\n",
              "Transform: Compose(\n",
              "               RandomResizedCrop(size=(224, 224), scale=(0.08, 1.0), ratio=(0.75, 1.3333), interpolation=bilinear, antialias=warn)\n",
              "               RandomHorizontalFlip(p=0.5)\n",
              "               ToTensor()\n",
              "               Normalize(mean=[0.485, 0.456, 0.406], std=[0.229, 0.224, 0.225])\n",
              "           )"
            ]
          },
          "metadata": {},
          "execution_count": 12
        }
      ]
    },
    {
      "cell_type": "code",
      "source": [
        "full_data[2004]"
      ],
      "metadata": {
        "colab": {
          "base_uri": "https://localhost:8080/"
        },
        "id": "kiq43fkq1dWn",
        "outputId": "255b3bfe-2185-432f-b3a5-601badd333a9"
      },
      "execution_count": 13,
      "outputs": [
        {
          "output_type": "execute_result",
          "data": {
            "text/plain": [
              "(tensor([[[ 1.1872,  0.8104,  0.4851,  ..., -0.1143, -0.1828, -0.1828],\n",
              "          [ 1.1015,  0.5707,  0.1083,  ...,  0.3309, -0.0629, -0.4739],\n",
              "          [ 0.6563,  0.2111, -0.1486,  ...,  0.2967,  0.0227, -0.3198],\n",
              "          ...,\n",
              "          [ 0.9474,  0.9817,  0.9988,  ...,  0.9303,  0.9988,  1.0331],\n",
              "          [ 0.9646,  0.9988,  0.9988,  ...,  0.9646,  0.9817,  0.9817],\n",
              "          [ 1.0331,  1.0331,  1.0159,  ...,  0.9303,  0.9132,  0.8961]],\n",
              " \n",
              "         [[ 1.1331,  0.7479,  0.4153,  ...,  0.3803,  0.3277,  0.3277],\n",
              "          [ 1.0455,  0.5028,  0.0301,  ...,  0.8529,  0.4503,  0.0301],\n",
              "          [ 0.5903,  0.1352, -0.2325,  ...,  0.8179,  0.5378,  0.1877],\n",
              "          ...,\n",
              "          [ 0.9930,  1.0280,  1.0455,  ...,  0.9055,  0.9755,  1.0105],\n",
              "          [ 1.0105,  1.0455,  1.0455,  ...,  0.9405,  0.9580,  0.9580],\n",
              "          [ 1.0805,  1.0805,  1.0630,  ...,  0.9055,  0.8880,  0.8704]],\n",
              " \n",
              "         [[ 1.4200,  1.0365,  0.7054,  ..., -0.1138, -0.2184, -0.2532],\n",
              "          [ 1.3328,  0.7925,  0.3219,  ...,  0.2871, -0.1138, -0.5495],\n",
              "          [ 0.8797,  0.4265,  0.0605,  ...,  0.2173, -0.0441, -0.4275],\n",
              "          ...,\n",
              "          [ 1.2457,  1.2805,  1.2980,  ...,  1.1411,  1.2108,  1.2457],\n",
              "          [ 1.2631,  1.2980,  1.2980,  ...,  1.1759,  1.1934,  1.1934],\n",
              "          [ 1.3328,  1.3328,  1.3154,  ...,  1.1411,  1.1237,  1.1062]]]),\n",
              " 2)"
            ]
          },
          "metadata": {},
          "execution_count": 13
        }
      ]
    },
    {
      "cell_type": "code",
      "source": [
        "#Splitting the dataset into train and test"
      ],
      "metadata": {
        "id": "e6tmDIvECi7a"
      },
      "execution_count": null,
      "outputs": []
    },
    {
      "cell_type": "code",
      "source": [
        "train_size = int(0.8 * len(full_data))\n",
        "test_size = len(full_data) - train_size"
      ],
      "metadata": {
        "id": "dK7ghP4c4W0-"
      },
      "execution_count": 14,
      "outputs": []
    },
    {
      "cell_type": "code",
      "source": [
        "train_data, test_data = random_split(full_data, [train_size, test_size])\n",
        "\n",
        "train_loader = torch.utils.data.DataLoader(train_data, batch_size=32, shuffle=True)\n",
        "test_loader = torch.utils.data.DataLoader(test_data, batch_size=32, shuffle=True)"
      ],
      "metadata": {
        "id": "HznI1l364cH5"
      },
      "execution_count": 15,
      "outputs": []
    },
    {
      "cell_type": "code",
      "source": [
        "for i in train_loader:\n",
        "    images,labels=i\n",
        "    print(images.shape)\n",
        "    print(labels)\n",
        "    break"
      ],
      "metadata": {
        "id": "YD-LSSHn42Mf",
        "colab": {
          "base_uri": "https://localhost:8080/"
        },
        "outputId": "b3a646a4-a2d9-4066-affa-23cc4fed2699"
      },
      "execution_count": 16,
      "outputs": [
        {
          "output_type": "stream",
          "name": "stdout",
          "text": [
            "torch.Size([32, 3, 224, 224])\n",
            "tensor([0, 1, 0, 1, 0, 1, 1, 1, 1, 0, 2, 1, 0, 0, 0, 0, 1, 1, 0, 0, 0, 0, 0, 1,\n",
            "        0, 1, 0, 1, 0, 1, 1, 1])\n"
          ]
        }
      ]
    },
    {
      "cell_type": "code",
      "source": [
        "labels"
      ],
      "metadata": {
        "id": "SWnuDgD87W8v",
        "outputId": "077ef042-b9b8-4ffd-fed9-8e1e1ce77690",
        "colab": {
          "base_uri": "https://localhost:8080/"
        }
      },
      "execution_count": 18,
      "outputs": [
        {
          "output_type": "execute_result",
          "data": {
            "text/plain": [
              "tensor([0, 1, 0, 1, 0, 1, 1, 1, 1, 0, 2, 1, 0, 0, 0, 0, 1, 1, 0, 0, 0, 0, 0, 1,\n",
              "        0, 1, 0, 1, 0, 1, 1, 1])"
            ]
          },
          "metadata": {},
          "execution_count": 18
        }
      ]
    },
    {
      "cell_type": "code",
      "source": [
        "len(train_loader)"
      ],
      "metadata": {
        "colab": {
          "base_uri": "https://localhost:8080/"
        },
        "id": "kFSUUyjBdl63",
        "outputId": "3eb79136-2c6f-4126-8545-0366149cfabb"
      },
      "execution_count": 22,
      "outputs": [
        {
          "output_type": "execute_result",
          "data": {
            "text/plain": [
              "54"
            ]
          },
          "metadata": {},
          "execution_count": 22
        }
      ]
    },
    {
      "cell_type": "code",
      "source": [
        "#Defining the model"
      ],
      "metadata": {
        "id": "ayJ53N1cC2Zb"
      },
      "execution_count": null,
      "outputs": []
    },
    {
      "cell_type": "code",
      "source": [
        "class LeNet(nn.Module):\n",
        "    def __init__(self):\n",
        "        super(LeNet,self).__init__(self)\n",
        "        self.cnn=nn.Sequential(\n",
        "            nn.Conv2d(3,6,(5,5)),\n",
        "            nn.Avgpool2d(2,stride=2),\n",
        "            nn.ReLu(),\n",
        "            nn.Conv2d(6,16,(5,5)),\n",
        "            nn.Avgpool2d(2,stride=2),\n",
        "            nn.ReLu(),\n",
        "            nn.Conv2d(16,8,(5,5)),\n",
        "            nn.Avgpool2d(2,stride=2),\n",
        "            nn.ReLu(),\n",
        "            nn.Conv2d(8,4,(5,5)),\n",
        "            nn.Avgpool2d(2,stride=2),\n",
        "            nn.ReLu(),\n",
        "\n",
        "        )\n",
        "        self.fc=nn.Sequential(\n",
        "            nn.Linear(400,2000),\n",
        "            nn.ReLu(),\n",
        "            nn.Linear(200,80),\n",
        "            nn.ReLu(),\n",
        "            nn.Linear(80,3)\n",
        "        )\n",
        "    def forward(self,x);\n",
        "        =self.cnn(x)\n",
        "        x=x.view(x.size(0),-1)\n",
        "        x=self.fc(x)\n",
        "        return x\n",
        "\n"
      ],
      "metadata": {
        "id": "5FRv700pEY9F"
      },
      "execution_count": null,
      "outputs": []
    },
    {
      "cell_type": "code",
      "source": [
        "#Evaluation\n"
      ],
      "metadata": {
        "id": "qTGcYUbxFUAC"
      },
      "execution_count": null,
      "outputs": []
    },
    {
      "cell_type": "code",
      "source": [
        "def evaluation(dataloader):\n",
        "    total=0\n",
        "    correct=0\n",
        "    for i,data in enumerate(dataloader):\n",
        "        input,label=data\n",
        "        output=net.forward(input)\n",
        "        _,pred=torch.max(output,1)\n",
        "        total+=label(0).size()\n",
        "        correct+=(output==label).sum().item()\n",
        "    return (correct/output)*100    "
      ],
      "metadata": {
        "id": "9Q-pSfDyFTYm"
      },
      "execution_count": null,
      "outputs": []
    },
    {
      "cell_type": "code",
      "source": [
        "#Learning algo"
      ],
      "metadata": {
        "id": "EZeVqzKbBe8e"
      },
      "execution_count": null,
      "outputs": []
    },
    {
      "cell_type": "code",
      "source": [
        "loss_epoch=[]\n",
        "for i in range(0,epoch):\n",
        "    for j,data in enumerate(trainloader,0):\n",
        "        input,label=data\n",
        "        output=net.forward(input)\n",
        "        loss=loss_fn(output,label)\n",
        "        loss.backward()\n",
        "        opt.step()\n",
        "        opt.zero_grad()\n",
        "    loss_epoch.append(loss.item())\n",
        "    print('Epoch %d/%d ,Training accuracy %0.2f,Test Accuracy %0.2f' %(i,epoch,evaluation(trainloader),evaluation(testloader)))\n",
        "\n",
        "plt.plot(loss_epoch)\n",
        "plt.show()        "
      ],
      "metadata": {
        "id": "cPtIRgyABhe9"
      },
      "execution_count": null,
      "outputs": []
    }
  ]
}