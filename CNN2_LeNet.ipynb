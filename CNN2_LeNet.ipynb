{
  "nbformat": 4,
  "nbformat_minor": 0,
  "metadata": {
    "colab": {
      "provenance": [],
      "authorship_tag": "ABX9TyMn3Sxmf0FrZfYun7DB31fh",
      "include_colab_link": true
    },
    "kernelspec": {
      "name": "python3",
      "display_name": "Python 3"
    },
    "language_info": {
      "name": "python"
    },
    "accelerator": "GPU",
    "widgets": {
      "application/vnd.jupyter.widget-state+json": {
        "61c5317bba0b44d9a1ac9a76238a4bec": {
          "model_module": "@jupyter-widgets/controls",
          "model_name": "HBoxModel",
          "model_module_version": "1.5.0",
          "state": {
            "_dom_classes": [],
            "_model_module": "@jupyter-widgets/controls",
            "_model_module_version": "1.5.0",
            "_model_name": "HBoxModel",
            "_view_count": null,
            "_view_module": "@jupyter-widgets/controls",
            "_view_module_version": "1.5.0",
            "_view_name": "HBoxView",
            "box_style": "",
            "children": [
              "IPY_MODEL_653b1b39d9ad42ce9ecdd945f138461f",
              "IPY_MODEL_78e8e8ca8a8244f29e25d44575231325",
              "IPY_MODEL_ea194ced850a4fcd91632db771f4f8bd"
            ],
            "layout": "IPY_MODEL_71035e0b4b294a38b7dbbdf73e3a11ec"
          }
        },
        "653b1b39d9ad42ce9ecdd945f138461f": {
          "model_module": "@jupyter-widgets/controls",
          "model_name": "HTMLModel",
          "model_module_version": "1.5.0",
          "state": {
            "_dom_classes": [],
            "_model_module": "@jupyter-widgets/controls",
            "_model_module_version": "1.5.0",
            "_model_name": "HTMLModel",
            "_view_count": null,
            "_view_module": "@jupyter-widgets/controls",
            "_view_module_version": "1.5.0",
            "_view_name": "HTMLView",
            "description": "",
            "description_tooltip": null,
            "layout": "IPY_MODEL_c0c36f3b86ba41479ae33621ff15a607",
            "placeholder": "​",
            "style": "IPY_MODEL_267a9df95eba41f4af0e7fe0997cefa6",
            "value": "100%"
          }
        },
        "78e8e8ca8a8244f29e25d44575231325": {
          "model_module": "@jupyter-widgets/controls",
          "model_name": "FloatProgressModel",
          "model_module_version": "1.5.0",
          "state": {
            "_dom_classes": [],
            "_model_module": "@jupyter-widgets/controls",
            "_model_module_version": "1.5.0",
            "_model_name": "FloatProgressModel",
            "_view_count": null,
            "_view_module": "@jupyter-widgets/controls",
            "_view_module_version": "1.5.0",
            "_view_name": "ProgressView",
            "bar_style": "success",
            "description": "",
            "description_tooltip": null,
            "layout": "IPY_MODEL_aebdfe3b35994976a6be1bb5d4fed318",
            "max": 170498071,
            "min": 0,
            "orientation": "horizontal",
            "style": "IPY_MODEL_c942ba5975bf4ef4809fb5cb1b4157f5",
            "value": 170498071
          }
        },
        "ea194ced850a4fcd91632db771f4f8bd": {
          "model_module": "@jupyter-widgets/controls",
          "model_name": "HTMLModel",
          "model_module_version": "1.5.0",
          "state": {
            "_dom_classes": [],
            "_model_module": "@jupyter-widgets/controls",
            "_model_module_version": "1.5.0",
            "_model_name": "HTMLModel",
            "_view_count": null,
            "_view_module": "@jupyter-widgets/controls",
            "_view_module_version": "1.5.0",
            "_view_name": "HTMLView",
            "description": "",
            "description_tooltip": null,
            "layout": "IPY_MODEL_9c447d277b3c497f9206dc7589e366ed",
            "placeholder": "​",
            "style": "IPY_MODEL_2a0956adcec14e0e880971bdf88bc1ec",
            "value": " 170498071/170498071 [00:52&lt;00:00, 3048269.80it/s]"
          }
        },
        "71035e0b4b294a38b7dbbdf73e3a11ec": {
          "model_module": "@jupyter-widgets/base",
          "model_name": "LayoutModel",
          "model_module_version": "1.2.0",
          "state": {
            "_model_module": "@jupyter-widgets/base",
            "_model_module_version": "1.2.0",
            "_model_name": "LayoutModel",
            "_view_count": null,
            "_view_module": "@jupyter-widgets/base",
            "_view_module_version": "1.2.0",
            "_view_name": "LayoutView",
            "align_content": null,
            "align_items": null,
            "align_self": null,
            "border": null,
            "bottom": null,
            "display": null,
            "flex": null,
            "flex_flow": null,
            "grid_area": null,
            "grid_auto_columns": null,
            "grid_auto_flow": null,
            "grid_auto_rows": null,
            "grid_column": null,
            "grid_gap": null,
            "grid_row": null,
            "grid_template_areas": null,
            "grid_template_columns": null,
            "grid_template_rows": null,
            "height": null,
            "justify_content": null,
            "justify_items": null,
            "left": null,
            "margin": null,
            "max_height": null,
            "max_width": null,
            "min_height": null,
            "min_width": null,
            "object_fit": null,
            "object_position": null,
            "order": null,
            "overflow": null,
            "overflow_x": null,
            "overflow_y": null,
            "padding": null,
            "right": null,
            "top": null,
            "visibility": null,
            "width": null
          }
        },
        "c0c36f3b86ba41479ae33621ff15a607": {
          "model_module": "@jupyter-widgets/base",
          "model_name": "LayoutModel",
          "model_module_version": "1.2.0",
          "state": {
            "_model_module": "@jupyter-widgets/base",
            "_model_module_version": "1.2.0",
            "_model_name": "LayoutModel",
            "_view_count": null,
            "_view_module": "@jupyter-widgets/base",
            "_view_module_version": "1.2.0",
            "_view_name": "LayoutView",
            "align_content": null,
            "align_items": null,
            "align_self": null,
            "border": null,
            "bottom": null,
            "display": null,
            "flex": null,
            "flex_flow": null,
            "grid_area": null,
            "grid_auto_columns": null,
            "grid_auto_flow": null,
            "grid_auto_rows": null,
            "grid_column": null,
            "grid_gap": null,
            "grid_row": null,
            "grid_template_areas": null,
            "grid_template_columns": null,
            "grid_template_rows": null,
            "height": null,
            "justify_content": null,
            "justify_items": null,
            "left": null,
            "margin": null,
            "max_height": null,
            "max_width": null,
            "min_height": null,
            "min_width": null,
            "object_fit": null,
            "object_position": null,
            "order": null,
            "overflow": null,
            "overflow_x": null,
            "overflow_y": null,
            "padding": null,
            "right": null,
            "top": null,
            "visibility": null,
            "width": null
          }
        },
        "267a9df95eba41f4af0e7fe0997cefa6": {
          "model_module": "@jupyter-widgets/controls",
          "model_name": "DescriptionStyleModel",
          "model_module_version": "1.5.0",
          "state": {
            "_model_module": "@jupyter-widgets/controls",
            "_model_module_version": "1.5.0",
            "_model_name": "DescriptionStyleModel",
            "_view_count": null,
            "_view_module": "@jupyter-widgets/base",
            "_view_module_version": "1.2.0",
            "_view_name": "StyleView",
            "description_width": ""
          }
        },
        "aebdfe3b35994976a6be1bb5d4fed318": {
          "model_module": "@jupyter-widgets/base",
          "model_name": "LayoutModel",
          "model_module_version": "1.2.0",
          "state": {
            "_model_module": "@jupyter-widgets/base",
            "_model_module_version": "1.2.0",
            "_model_name": "LayoutModel",
            "_view_count": null,
            "_view_module": "@jupyter-widgets/base",
            "_view_module_version": "1.2.0",
            "_view_name": "LayoutView",
            "align_content": null,
            "align_items": null,
            "align_self": null,
            "border": null,
            "bottom": null,
            "display": null,
            "flex": null,
            "flex_flow": null,
            "grid_area": null,
            "grid_auto_columns": null,
            "grid_auto_flow": null,
            "grid_auto_rows": null,
            "grid_column": null,
            "grid_gap": null,
            "grid_row": null,
            "grid_template_areas": null,
            "grid_template_columns": null,
            "grid_template_rows": null,
            "height": null,
            "justify_content": null,
            "justify_items": null,
            "left": null,
            "margin": null,
            "max_height": null,
            "max_width": null,
            "min_height": null,
            "min_width": null,
            "object_fit": null,
            "object_position": null,
            "order": null,
            "overflow": null,
            "overflow_x": null,
            "overflow_y": null,
            "padding": null,
            "right": null,
            "top": null,
            "visibility": null,
            "width": null
          }
        },
        "c942ba5975bf4ef4809fb5cb1b4157f5": {
          "model_module": "@jupyter-widgets/controls",
          "model_name": "ProgressStyleModel",
          "model_module_version": "1.5.0",
          "state": {
            "_model_module": "@jupyter-widgets/controls",
            "_model_module_version": "1.5.0",
            "_model_name": "ProgressStyleModel",
            "_view_count": null,
            "_view_module": "@jupyter-widgets/base",
            "_view_module_version": "1.2.0",
            "_view_name": "StyleView",
            "bar_color": null,
            "description_width": ""
          }
        },
        "9c447d277b3c497f9206dc7589e366ed": {
          "model_module": "@jupyter-widgets/base",
          "model_name": "LayoutModel",
          "model_module_version": "1.2.0",
          "state": {
            "_model_module": "@jupyter-widgets/base",
            "_model_module_version": "1.2.0",
            "_model_name": "LayoutModel",
            "_view_count": null,
            "_view_module": "@jupyter-widgets/base",
            "_view_module_version": "1.2.0",
            "_view_name": "LayoutView",
            "align_content": null,
            "align_items": null,
            "align_self": null,
            "border": null,
            "bottom": null,
            "display": null,
            "flex": null,
            "flex_flow": null,
            "grid_area": null,
            "grid_auto_columns": null,
            "grid_auto_flow": null,
            "grid_auto_rows": null,
            "grid_column": null,
            "grid_gap": null,
            "grid_row": null,
            "grid_template_areas": null,
            "grid_template_columns": null,
            "grid_template_rows": null,
            "height": null,
            "justify_content": null,
            "justify_items": null,
            "left": null,
            "margin": null,
            "max_height": null,
            "max_width": null,
            "min_height": null,
            "min_width": null,
            "object_fit": null,
            "object_position": null,
            "order": null,
            "overflow": null,
            "overflow_x": null,
            "overflow_y": null,
            "padding": null,
            "right": null,
            "top": null,
            "visibility": null,
            "width": null
          }
        },
        "2a0956adcec14e0e880971bdf88bc1ec": {
          "model_module": "@jupyter-widgets/controls",
          "model_name": "DescriptionStyleModel",
          "model_module_version": "1.5.0",
          "state": {
            "_model_module": "@jupyter-widgets/controls",
            "_model_module_version": "1.5.0",
            "_model_name": "DescriptionStyleModel",
            "_view_count": null,
            "_view_module": "@jupyter-widgets/base",
            "_view_module_version": "1.2.0",
            "_view_name": "StyleView",
            "description_width": ""
          }
        },
        "950042a2b3df4de9a81193a0bc577b7a": {
          "model_module": "@jupyter-widgets/controls",
          "model_name": "HBoxModel",
          "model_module_version": "1.5.0",
          "state": {
            "_dom_classes": [],
            "_model_module": "@jupyter-widgets/controls",
            "_model_module_version": "1.5.0",
            "_model_name": "HBoxModel",
            "_view_count": null,
            "_view_module": "@jupyter-widgets/controls",
            "_view_module_version": "1.5.0",
            "_view_name": "HBoxView",
            "box_style": "",
            "children": [
              "IPY_MODEL_745f57e1ac0b419eab45433c8b59358e",
              "IPY_MODEL_c85ec69f00fb4d2c873ff422105f93e8",
              "IPY_MODEL_4b0d952a214e45dcaed38f24cd4ebee9"
            ],
            "layout": "IPY_MODEL_cea90b9d402f4b00828bc71698fe8672"
          }
        },
        "745f57e1ac0b419eab45433c8b59358e": {
          "model_module": "@jupyter-widgets/controls",
          "model_name": "HTMLModel",
          "model_module_version": "1.5.0",
          "state": {
            "_dom_classes": [],
            "_model_module": "@jupyter-widgets/controls",
            "_model_module_version": "1.5.0",
            "_model_name": "HTMLModel",
            "_view_count": null,
            "_view_module": "@jupyter-widgets/controls",
            "_view_module_version": "1.5.0",
            "_view_name": "HTMLView",
            "description": "",
            "description_tooltip": null,
            "layout": "IPY_MODEL_1368df64f75f4673af58aecf707f11b4",
            "placeholder": "​",
            "style": "IPY_MODEL_9ef90cb4629248488e8be2cc697a46b2",
            "value": "100%"
          }
        },
        "c85ec69f00fb4d2c873ff422105f93e8": {
          "model_module": "@jupyter-widgets/controls",
          "model_name": "FloatProgressModel",
          "model_module_version": "1.5.0",
          "state": {
            "_dom_classes": [],
            "_model_module": "@jupyter-widgets/controls",
            "_model_module_version": "1.5.0",
            "_model_name": "FloatProgressModel",
            "_view_count": null,
            "_view_module": "@jupyter-widgets/controls",
            "_view_module_version": "1.5.0",
            "_view_name": "ProgressView",
            "bar_style": "success",
            "description": "",
            "description_tooltip": null,
            "layout": "IPY_MODEL_76c0fb3eefe74823a525a2e1d16860ad",
            "max": 170498071,
            "min": 0,
            "orientation": "horizontal",
            "style": "IPY_MODEL_a512d605d3f94b67a1580a9887308021",
            "value": 170498071
          }
        },
        "4b0d952a214e45dcaed38f24cd4ebee9": {
          "model_module": "@jupyter-widgets/controls",
          "model_name": "HTMLModel",
          "model_module_version": "1.5.0",
          "state": {
            "_dom_classes": [],
            "_model_module": "@jupyter-widgets/controls",
            "_model_module_version": "1.5.0",
            "_model_name": "HTMLModel",
            "_view_count": null,
            "_view_module": "@jupyter-widgets/controls",
            "_view_module_version": "1.5.0",
            "_view_name": "HTMLView",
            "description": "",
            "description_tooltip": null,
            "layout": "IPY_MODEL_9c80efb4bf4340818fc3dfcb010bc5aa",
            "placeholder": "​",
            "style": "IPY_MODEL_c08cd7e06cdf4737ad953b1132d4ce56",
            "value": " 170498071/170498071 [00:05&lt;00:00, 19660662.69it/s]"
          }
        },
        "cea90b9d402f4b00828bc71698fe8672": {
          "model_module": "@jupyter-widgets/base",
          "model_name": "LayoutModel",
          "model_module_version": "1.2.0",
          "state": {
            "_model_module": "@jupyter-widgets/base",
            "_model_module_version": "1.2.0",
            "_model_name": "LayoutModel",
            "_view_count": null,
            "_view_module": "@jupyter-widgets/base",
            "_view_module_version": "1.2.0",
            "_view_name": "LayoutView",
            "align_content": null,
            "align_items": null,
            "align_self": null,
            "border": null,
            "bottom": null,
            "display": null,
            "flex": null,
            "flex_flow": null,
            "grid_area": null,
            "grid_auto_columns": null,
            "grid_auto_flow": null,
            "grid_auto_rows": null,
            "grid_column": null,
            "grid_gap": null,
            "grid_row": null,
            "grid_template_areas": null,
            "grid_template_columns": null,
            "grid_template_rows": null,
            "height": null,
            "justify_content": null,
            "justify_items": null,
            "left": null,
            "margin": null,
            "max_height": null,
            "max_width": null,
            "min_height": null,
            "min_width": null,
            "object_fit": null,
            "object_position": null,
            "order": null,
            "overflow": null,
            "overflow_x": null,
            "overflow_y": null,
            "padding": null,
            "right": null,
            "top": null,
            "visibility": null,
            "width": null
          }
        },
        "1368df64f75f4673af58aecf707f11b4": {
          "model_module": "@jupyter-widgets/base",
          "model_name": "LayoutModel",
          "model_module_version": "1.2.0",
          "state": {
            "_model_module": "@jupyter-widgets/base",
            "_model_module_version": "1.2.0",
            "_model_name": "LayoutModel",
            "_view_count": null,
            "_view_module": "@jupyter-widgets/base",
            "_view_module_version": "1.2.0",
            "_view_name": "LayoutView",
            "align_content": null,
            "align_items": null,
            "align_self": null,
            "border": null,
            "bottom": null,
            "display": null,
            "flex": null,
            "flex_flow": null,
            "grid_area": null,
            "grid_auto_columns": null,
            "grid_auto_flow": null,
            "grid_auto_rows": null,
            "grid_column": null,
            "grid_gap": null,
            "grid_row": null,
            "grid_template_areas": null,
            "grid_template_columns": null,
            "grid_template_rows": null,
            "height": null,
            "justify_content": null,
            "justify_items": null,
            "left": null,
            "margin": null,
            "max_height": null,
            "max_width": null,
            "min_height": null,
            "min_width": null,
            "object_fit": null,
            "object_position": null,
            "order": null,
            "overflow": null,
            "overflow_x": null,
            "overflow_y": null,
            "padding": null,
            "right": null,
            "top": null,
            "visibility": null,
            "width": null
          }
        },
        "9ef90cb4629248488e8be2cc697a46b2": {
          "model_module": "@jupyter-widgets/controls",
          "model_name": "DescriptionStyleModel",
          "model_module_version": "1.5.0",
          "state": {
            "_model_module": "@jupyter-widgets/controls",
            "_model_module_version": "1.5.0",
            "_model_name": "DescriptionStyleModel",
            "_view_count": null,
            "_view_module": "@jupyter-widgets/base",
            "_view_module_version": "1.2.0",
            "_view_name": "StyleView",
            "description_width": ""
          }
        },
        "76c0fb3eefe74823a525a2e1d16860ad": {
          "model_module": "@jupyter-widgets/base",
          "model_name": "LayoutModel",
          "model_module_version": "1.2.0",
          "state": {
            "_model_module": "@jupyter-widgets/base",
            "_model_module_version": "1.2.0",
            "_model_name": "LayoutModel",
            "_view_count": null,
            "_view_module": "@jupyter-widgets/base",
            "_view_module_version": "1.2.0",
            "_view_name": "LayoutView",
            "align_content": null,
            "align_items": null,
            "align_self": null,
            "border": null,
            "bottom": null,
            "display": null,
            "flex": null,
            "flex_flow": null,
            "grid_area": null,
            "grid_auto_columns": null,
            "grid_auto_flow": null,
            "grid_auto_rows": null,
            "grid_column": null,
            "grid_gap": null,
            "grid_row": null,
            "grid_template_areas": null,
            "grid_template_columns": null,
            "grid_template_rows": null,
            "height": null,
            "justify_content": null,
            "justify_items": null,
            "left": null,
            "margin": null,
            "max_height": null,
            "max_width": null,
            "min_height": null,
            "min_width": null,
            "object_fit": null,
            "object_position": null,
            "order": null,
            "overflow": null,
            "overflow_x": null,
            "overflow_y": null,
            "padding": null,
            "right": null,
            "top": null,
            "visibility": null,
            "width": null
          }
        },
        "a512d605d3f94b67a1580a9887308021": {
          "model_module": "@jupyter-widgets/controls",
          "model_name": "ProgressStyleModel",
          "model_module_version": "1.5.0",
          "state": {
            "_model_module": "@jupyter-widgets/controls",
            "_model_module_version": "1.5.0",
            "_model_name": "ProgressStyleModel",
            "_view_count": null,
            "_view_module": "@jupyter-widgets/base",
            "_view_module_version": "1.2.0",
            "_view_name": "StyleView",
            "bar_color": null,
            "description_width": ""
          }
        },
        "9c80efb4bf4340818fc3dfcb010bc5aa": {
          "model_module": "@jupyter-widgets/base",
          "model_name": "LayoutModel",
          "model_module_version": "1.2.0",
          "state": {
            "_model_module": "@jupyter-widgets/base",
            "_model_module_version": "1.2.0",
            "_model_name": "LayoutModel",
            "_view_count": null,
            "_view_module": "@jupyter-widgets/base",
            "_view_module_version": "1.2.0",
            "_view_name": "LayoutView",
            "align_content": null,
            "align_items": null,
            "align_self": null,
            "border": null,
            "bottom": null,
            "display": null,
            "flex": null,
            "flex_flow": null,
            "grid_area": null,
            "grid_auto_columns": null,
            "grid_auto_flow": null,
            "grid_auto_rows": null,
            "grid_column": null,
            "grid_gap": null,
            "grid_row": null,
            "grid_template_areas": null,
            "grid_template_columns": null,
            "grid_template_rows": null,
            "height": null,
            "justify_content": null,
            "justify_items": null,
            "left": null,
            "margin": null,
            "max_height": null,
            "max_width": null,
            "min_height": null,
            "min_width": null,
            "object_fit": null,
            "object_position": null,
            "order": null,
            "overflow": null,
            "overflow_x": null,
            "overflow_y": null,
            "padding": null,
            "right": null,
            "top": null,
            "visibility": null,
            "width": null
          }
        },
        "c08cd7e06cdf4737ad953b1132d4ce56": {
          "model_module": "@jupyter-widgets/controls",
          "model_name": "DescriptionStyleModel",
          "model_module_version": "1.5.0",
          "state": {
            "_model_module": "@jupyter-widgets/controls",
            "_model_module_version": "1.5.0",
            "_model_name": "DescriptionStyleModel",
            "_view_count": null,
            "_view_module": "@jupyter-widgets/base",
            "_view_module_version": "1.2.0",
            "_view_name": "StyleView",
            "description_width": ""
          }
        }
      }
    }
  },
  "cells": [
    {
      "cell_type": "markdown",
      "metadata": {
        "id": "view-in-github",
        "colab_type": "text"
      },
      "source": [
        "<a href=\"https://colab.research.google.com/github/arka57/CNN/blob/main/CNN2_LeNet.ipynb\" target=\"_parent\"><img src=\"https://colab.research.google.com/assets/colab-badge.svg\" alt=\"Open In Colab\"/></a>"
      ]
    },
    {
      "cell_type": "code",
      "execution_count": 10,
      "metadata": {
        "id": "vpvyIuutfES2"
      },
      "outputs": [],
      "source": [
        "import numpy as np\n",
        "import matplotlib.pyplot as plt\n",
        "import torch\n",
        "import torchvision\n",
        "import torchvision.transforms as transforms\n",
        "import torch.nn as nn\n",
        "import torch.optim as optim"
      ]
    },
    {
      "cell_type": "code",
      "source": [
        "#downloading the data\n",
        "train=torchvision.datasets.CIFAR10(root='./data',train=True,download=True,transform=transforms.ToTensor())"
      ],
      "metadata": {
        "colab": {
          "base_uri": "https://localhost:8080/",
          "height": 84,
          "referenced_widgets": [
            "61c5317bba0b44d9a1ac9a76238a4bec",
            "653b1b39d9ad42ce9ecdd945f138461f",
            "78e8e8ca8a8244f29e25d44575231325",
            "ea194ced850a4fcd91632db771f4f8bd",
            "71035e0b4b294a38b7dbbdf73e3a11ec",
            "c0c36f3b86ba41479ae33621ff15a607",
            "267a9df95eba41f4af0e7fe0997cefa6",
            "aebdfe3b35994976a6be1bb5d4fed318",
            "c942ba5975bf4ef4809fb5cb1b4157f5",
            "9c447d277b3c497f9206dc7589e366ed",
            "2a0956adcec14e0e880971bdf88bc1ec"
          ]
        },
        "id": "Cp24uuOlgn5X",
        "outputId": "f11a0f4d-0edf-42c1-94ef-805bcb524e6a"
      },
      "execution_count": 2,
      "outputs": [
        {
          "output_type": "stream",
          "name": "stdout",
          "text": [
            "Downloading https://www.cs.toronto.edu/~kriz/cifar-10-python.tar.gz to ./data/cifar-10-python.tar.gz\n"
          ]
        },
        {
          "output_type": "display_data",
          "data": {
            "text/plain": [
              "  0%|          | 0/170498071 [00:00<?, ?it/s]"
            ],
            "application/vnd.jupyter.widget-view+json": {
              "version_major": 2,
              "version_minor": 0,
              "model_id": "61c5317bba0b44d9a1ac9a76238a4bec"
            }
          },
          "metadata": {}
        },
        {
          "output_type": "stream",
          "name": "stdout",
          "text": [
            "Extracting ./data/cifar-10-python.tar.gz to ./data\n"
          ]
        }
      ]
    },
    {
      "cell_type": "code",
      "source": [
        "classes = ('plane', 'car', 'bird', 'cat', 'deer', 'dog', 'frog', 'horse', 'ship', 'truck')"
      ],
      "metadata": {
        "id": "9FuRR8gXhJVu"
      },
      "execution_count": 3,
      "outputs": []
    },
    {
      "cell_type": "code",
      "source": [
        "trainloader=torch.utils.data.DataLoader(train,batch_size=4,shuffle=True)"
      ],
      "metadata": {
        "id": "envmgVlIhLdv"
      },
      "execution_count": 4,
      "outputs": []
    },
    {
      "cell_type": "code",
      "source": [
        "dataiter=iter(trainloader)#for iterating trainloader. Here dataiter will have 1 batch of data of 4 images"
      ],
      "metadata": {
        "id": "l16mu6yshRRe"
      },
      "execution_count": 5,
      "outputs": []
    },
    {
      "cell_type": "code",
      "source": [
        "images,labels=dataiter.next()"
      ],
      "metadata": {
        "id": "7IqKHcBAhVhH"
      },
      "execution_count": 6,
      "outputs": []
    },
    {
      "cell_type": "code",
      "source": [
        "print(images.shape) #4-batch size, 3X32X32 dimensions for a RGB image\n",
        "print(images[0].shape)#shape of 1st image in batch size of 4\n",
        "print(labels[0].item())"
      ],
      "metadata": {
        "colab": {
          "base_uri": "https://localhost:8080/"
        },
        "id": "ogCt7-Z8hYJe",
        "outputId": "10721be5-20e4-4bab-8a3c-293b9355cd62"
      },
      "execution_count": 7,
      "outputs": [
        {
          "output_type": "stream",
          "name": "stdout",
          "text": [
            "torch.Size([4, 3, 32, 32])\n",
            "torch.Size([3, 32, 32])\n",
            "1\n"
          ]
        }
      ]
    },
    {
      "cell_type": "code",
      "source": [
        "from torch.nn.modules.pooling import AvgPool2d\n",
        "#Defining the LeNet Model\n",
        "\n",
        "class LeNet(nn.Module):\n",
        "    def __init__(self):\n",
        "        super(LeNet,self).__init__()\n",
        "        self.cnn=nn.Sequential(\n",
        "            nn.Conv2d(3,6,(5,5)),          #(3,32,32)--->(6,28,28)\n",
        "            nn.Tanh(),\n",
        "            nn.AvgPool2d((2,2),stride=2),  #(6,28,28)--->(6,14,14)\n",
        "            nn.Conv2d(6,16,(5,5)),         #(6,14,14)--->(16,10,10)\n",
        "            nn.Tanh(),\n",
        "            nn.AvgPool2d((2,2),stride=2)   #(16,10,10)--->(16,5,5) \n",
        "        )\n",
        "\n",
        "        self.fc_model=nn.Sequential(\n",
        "            nn.Linear(400,120),\n",
        "            nn.Tanh(),\n",
        "            nn.Linear(120,84),\n",
        "            nn.Tanh(),\n",
        "            nn.Linear(84,10)\n",
        "        )\n",
        "\n",
        "    def forward(self,x):\n",
        "        #print(x.shape)\n",
        "        x=self.cnn(x)\n",
        "        #print(x.shape)#Convolution part done (16,5,5)\n",
        "        x=x.view(x.size(0),-1)#converting to fully connected layer(16,5,5)-->16X5X5=400.First index remains same.it is for batch. All remaining done in one single dimension i.e 400 rows\n",
        "        #print(x.shape)\n",
        "        x=self.fc_model(x)\n",
        "        #print(x.shape)\n",
        "        return x\n",
        "\n",
        "        "
      ],
      "metadata": {
        "id": "RzCsAU6rhf3W"
      },
      "execution_count": 8,
      "outputs": []
    },
    {
      "cell_type": "code",
      "source": [
        "net=LeNet()#instantiating the network\n",
        "output=net(images)#passing 1 batch of 4 images to the network"
      ],
      "metadata": {
        "colab": {
          "base_uri": "https://localhost:8080/"
        },
        "id": "8kUv8DMmmNoH",
        "outputId": "fc302dfe-8ef6-49f5-c697-528a7f8367f4"
      },
      "execution_count": 10,
      "outputs": [
        {
          "output_type": "stream",
          "name": "stdout",
          "text": [
            "torch.Size([4, 3, 32, 32])\n",
            "torch.Size([4, 16, 5, 5])\n",
            "torch.Size([4, 400])\n",
            "torch.Size([4, 10])\n"
          ]
        }
      ]
    },
    {
      "cell_type": "code",
      "source": [
        "# 4 rows with each row having 10 columns (10 possible outcomes and their probabilities).Softmax not needed here as whoever has max value out of 10 will be the predicted class.\n",
        "#But in BackProp we need Softmax and that is implemented in CrossEntropy Function\n",
        "\n",
        "print(output)"
      ],
      "metadata": {
        "colab": {
          "base_uri": "https://localhost:8080/"
        },
        "id": "8jnfR5BAmhhW",
        "outputId": "f7512c23-a872-4789-d3aa-3aa3bab02f7f"
      },
      "execution_count": 11,
      "outputs": [
        {
          "output_type": "stream",
          "name": "stdout",
          "text": [
            "tensor([[-0.0352,  0.0224,  0.0713,  0.0528,  0.0208,  0.0177,  0.1228,  0.1002,\n",
            "         -0.1284, -0.0607],\n",
            "        [-0.0353,  0.0087,  0.0620,  0.0491,  0.0210,  0.0171,  0.1231,  0.0972,\n",
            "         -0.1323, -0.0881],\n",
            "        [-0.0588,  0.0200,  0.0660,  0.0476, -0.0049,  0.0162,  0.1577,  0.0803,\n",
            "         -0.1578, -0.0348],\n",
            "        [-0.0260,  0.0194,  0.0656,  0.0558,  0.0112,  0.0328,  0.1292,  0.0830,\n",
            "         -0.1369, -0.0634]], grad_fn=<AddmmBackward0>)\n"
          ]
        }
      ]
    },
    {
      "cell_type": "code",
      "source": [
        "print(output.shape)"
      ],
      "metadata": {
        "colab": {
          "base_uri": "https://localhost:8080/"
        },
        "id": "ZRmnXwL2QjLn",
        "outputId": "67e5b044-3c5c-4611-f2bd-f0e32ecb03f5"
      },
      "execution_count": 15,
      "outputs": [
        {
          "output_type": "stream",
          "name": "stdout",
          "text": [
            "torch.Size([4, 10])\n"
          ]
        }
      ]
    },
    {
      "cell_type": "code",
      "source": [
        "torch.max(output,1)#return max values of each row and also the index of the max value"
      ],
      "metadata": {
        "colab": {
          "base_uri": "https://localhost:8080/"
        },
        "id": "ZipPJpIzxuDw",
        "outputId": "789d0246-c630-4f40-ca0d-4c6a31812960"
      },
      "execution_count": 14,
      "outputs": [
        {
          "output_type": "execute_result",
          "data": {
            "text/plain": [
              "torch.return_types.max(\n",
              "values=tensor([0.1228, 0.1231, 0.1577, 0.1292], grad_fn=<MaxBackward0>),\n",
              "indices=tensor([6, 6, 6, 6]))"
            ]
          },
          "metadata": {},
          "execution_count": 14
        }
      ]
    },
    {
      "cell_type": "code",
      "source": [
        "max_values,pred_class=torch.max(output,1)\n",
        "print(max_values)\n",
        "print(pred_class)"
      ],
      "metadata": {
        "colab": {
          "base_uri": "https://localhost:8080/"
        },
        "id": "DsSnmdsFQQvv",
        "outputId": "3133b5e1-4951-4950-8a1d-a6476e2d493b"
      },
      "execution_count": 18,
      "outputs": [
        {
          "output_type": "stream",
          "name": "stdout",
          "text": [
            "tensor([0.1228, 0.1231, 0.1577, 0.1292], grad_fn=<MaxBackward0>)\n",
            "tensor([6, 6, 6, 6])\n"
          ]
        }
      ]
    },
    {
      "cell_type": "code",
      "source": [
        "max_values,_=torch.max(output,1)\n",
        "print(max_values)"
      ],
      "metadata": {
        "colab": {
          "base_uri": "https://localhost:8080/"
        },
        "id": "Mc5qWCwUTP0P",
        "outputId": "66ad56f8-5272-4959-e0e6-7d51cb350dee"
      },
      "execution_count": 20,
      "outputs": [
        {
          "output_type": "stream",
          "name": "stdout",
          "text": [
            "tensor([0.1228, 0.1231, 0.1577, 0.1292], grad_fn=<MaxBackward0>)\n"
          ]
        }
      ]
    },
    {
      "cell_type": "code",
      "source": [
        "_,pred_class=torch.max(output,1)\n",
        "print(pred_class)"
      ],
      "metadata": {
        "colab": {
          "base_uri": "https://localhost:8080/"
        },
        "id": "Hrsr8Ed1TZuW",
        "outputId": "d2410dbb-4acb-41b8-c2ec-3ba50a56f0d4"
      },
      "execution_count": 21,
      "outputs": [
        {
          "output_type": "stream",
          "name": "stdout",
          "text": [
            "tensor([6, 6, 6, 6])\n"
          ]
        }
      ]
    },
    {
      "cell_type": "markdown",
      "source": [
        "Now applying the LeNet model on the entire dataset and training it"
      ],
      "metadata": {
        "id": "5qMdsnqgTgjW"
      }
    },
    {
      "cell_type": "code",
      "source": [
        "#Downoading dataset and creating the dataloaders\n",
        "train=torchvision.datasets.CIFAR10(root='./data',train=True,download=True,transform=transforms.ToTensor())\n",
        "trainloader=torch.utils.data.DataLoader(train,batch_size=128,shuffle=True)\n",
        "test=torchvision.datasets.CIFAR10(root='./data',train=False,download=True,transform=transforms.ToTensor())\n",
        "testloader=torch.utils.data.DataLoader(test,batch_size=128,shuffle=False)"
      ],
      "metadata": {
        "colab": {
          "base_uri": "https://localhost:8080/",
          "height": 101,
          "referenced_widgets": [
            "950042a2b3df4de9a81193a0bc577b7a",
            "745f57e1ac0b419eab45433c8b59358e",
            "c85ec69f00fb4d2c873ff422105f93e8",
            "4b0d952a214e45dcaed38f24cd4ebee9",
            "cea90b9d402f4b00828bc71698fe8672",
            "1368df64f75f4673af58aecf707f11b4",
            "9ef90cb4629248488e8be2cc697a46b2",
            "76c0fb3eefe74823a525a2e1d16860ad",
            "a512d605d3f94b67a1580a9887308021",
            "9c80efb4bf4340818fc3dfcb010bc5aa",
            "c08cd7e06cdf4737ad953b1132d4ce56"
          ]
        },
        "id": "NKtH56tETnkW",
        "outputId": "c7a74dd3-77a3-473d-b246-b98ba221c787"
      },
      "execution_count": 4,
      "outputs": [
        {
          "output_type": "stream",
          "name": "stdout",
          "text": [
            "Downloading https://www.cs.toronto.edu/~kriz/cifar-10-python.tar.gz to ./data/cifar-10-python.tar.gz\n"
          ]
        },
        {
          "output_type": "display_data",
          "data": {
            "text/plain": [
              "  0%|          | 0/170498071 [00:00<?, ?it/s]"
            ],
            "application/vnd.jupyter.widget-view+json": {
              "version_major": 2,
              "version_minor": 0,
              "model_id": "950042a2b3df4de9a81193a0bc577b7a"
            }
          },
          "metadata": {}
        },
        {
          "output_type": "stream",
          "name": "stdout",
          "text": [
            "Extracting ./data/cifar-10-python.tar.gz to ./data\n",
            "Files already downloaded and verified\n"
          ]
        }
      ]
    },
    {
      "cell_type": "code",
      "source": [
        "#Evaluation function to determine accuracy\n",
        "def evaluate(dataloader):\n",
        "    total=0\n",
        "    correct=0\n",
        "    for i in dataloader:\n",
        "        images,labels=i\n",
        "        outputs=net(images)\n",
        "        _,pred=torch.max(outputs,1)\n",
        "        total+=labels.size(0)\n",
        "        correct+=(pred==labels).sum().item()#adding in correct only those whose pred and labels are same\n",
        "    return (correct/total)*100    "
      ],
      "metadata": {
        "id": "F1PIEZURdaxx"
      },
      "execution_count": 40,
      "outputs": []
    },
    {
      "cell_type": "code",
      "source": [
        "net=LeNet()#instantiating model"
      ],
      "metadata": {
        "id": "uxVRjftHh8Ou"
      },
      "execution_count": 39,
      "outputs": []
    },
    {
      "cell_type": "code",
      "source": [
        "#initialsing optimiser Adam\n",
        "import torch.optim as optim\n",
        "opt=optim.Adam(net.parameters())\n",
        "loss_fn=nn.CrossEntropyLoss()"
      ],
      "metadata": {
        "id": "wUbRjqWqiCEn"
      },
      "execution_count": 41,
      "outputs": []
    },
    {
      "cell_type": "code",
      "source": [
        "#Learning Algorithm"
      ],
      "metadata": {
        "id": "39qIKAemjfdd"
      },
      "execution_count": null,
      "outputs": []
    },
    {
      "cell_type": "code",
      "source": [
        "loss_epoch=[]\n",
        "epochs=16\n",
        "\n",
        "for i in range(epochs):\n",
        "\n",
        "    for _,data in enumerate(trainloader,0):\n",
        "        \n",
        "        inputs,labels=data\n",
        "        output=net(inputs)\n",
        "        loss=loss_fn(output,labels)\n",
        "\n",
        "        loss.backward()\n",
        "\n",
        "        opt.step()\n",
        "\n",
        "        opt.zero_grad()\n",
        "    loss_epoch.append(loss.item())\n",
        "    print('Epochs %d/%d, Train Accuracy=%d,Test Accuracy=%d'%(i,epochs,evaluate(trainloader),evaluate(testloader)))       \n",
        "plt.plot(loss_epoch)\n",
        "plt.show()    "
      ],
      "metadata": {
        "colab": {
          "base_uri": "https://localhost:8080/",
          "height": 543
        },
        "id": "oLGNtWekjiB-",
        "outputId": "a0bc20a1-2170-4459-b28a-20798540c64c"
      },
      "execution_count": 42,
      "outputs": [
        {
          "output_type": "stream",
          "name": "stdout",
          "text": [
            "Epochs 0/16, Train Accuracy=38,Test Accuracy=37\n",
            "Epochs 1/16, Train Accuracy=44,Test Accuracy=43\n",
            "Epochs 2/16, Train Accuracy=47,Test Accuracy=45\n",
            "Epochs 3/16, Train Accuracy=50,Test Accuracy=48\n",
            "Epochs 4/16, Train Accuracy=53,Test Accuracy=50\n",
            "Epochs 5/16, Train Accuracy=55,Test Accuracy=51\n",
            "Epochs 6/16, Train Accuracy=56,Test Accuracy=52\n",
            "Epochs 7/16, Train Accuracy=57,Test Accuracy=53\n",
            "Epochs 8/16, Train Accuracy=59,Test Accuracy=54\n",
            "Epochs 9/16, Train Accuracy=59,Test Accuracy=53\n",
            "Epochs 10/16, Train Accuracy=61,Test Accuracy=54\n",
            "Epochs 11/16, Train Accuracy=62,Test Accuracy=54\n",
            "Epochs 12/16, Train Accuracy=62,Test Accuracy=54\n",
            "Epochs 13/16, Train Accuracy=63,Test Accuracy=55\n",
            "Epochs 14/16, Train Accuracy=64,Test Accuracy=55\n",
            "Epochs 15/16, Train Accuracy=66,Test Accuracy=55\n"
          ]
        },
        {
          "output_type": "display_data",
          "data": {
            "text/plain": [
              "<Figure size 432x288 with 1 Axes>"
            ],
            "image/png": "[encoded data removed]"
          },
          "metadata": {
            "needs_background": "light"
          }
        }
      ]
    },
    {
      "cell_type": "code",
      "source": [
        "#observation: There is significant overfitting happening. Can be reduced using regularization\n",
        "#Loss going down over epochs"
      ],
      "metadata": {
        "id": "VM_uGl0V5JsY"
      },
      "execution_count": null,
      "outputs": []
    },
    {
      "cell_type": "code",
      "source": [
        "#Same LeNet model now in GPU"
      ],
      "metadata": {
        "id": "ohosZEHf5X92"
      },
      "execution_count": null,
      "outputs": []
    },
    {
      "cell_type": "code",
      "source": [
        "device = torch.device(\"cuda:0\" if torch.cuda.is_available() else \"cpu\")\n",
        "print(device)"
      ],
      "metadata": {
        "colab": {
          "base_uri": "https://localhost:8080/"
        },
        "id": "gb-Ij3415gZP",
        "outputId": "8811984d-c133-4db6-90da-2cb3a6f1333a"
      },
      "execution_count": 43,
      "outputs": [
        {
          "output_type": "stream",
          "name": "stdout",
          "text": [
            "cpu\n"
          ]
        }
      ]
    },
    {
      "cell_type": "code",
      "source": [
        "device = torch.device(\"cuda:0\" if torch.cuda.is_available() else \"cpu\")\n",
        "print(device)"
      ],
      "metadata": {
        "colab": {
          "base_uri": "https://localhost:8080/"
        },
        "id": "DHcNA4ek5oG2",
        "outputId": "2409124e-f274-4796-da33-303736206564"
      },
      "execution_count": 5,
      "outputs": [
        {
          "output_type": "stream",
          "name": "stdout",
          "text": [
            "cuda:0\n"
          ]
        }
      ]
    },
    {
      "cell_type": "code",
      "source": [
        "def evaluate(dataloader):\n",
        "    total=0\n",
        "    correct=0\n",
        "    for i in dataloader:\n",
        "        images,labels=i\n",
        "        images,labels = images.to(device), labels.to(device)\n",
        "        outputs=net(images)\n",
        "        _,pred=torch.max(outputs,1)\n",
        "        total+=labels.size(0)\n",
        "        correct+=(pred==labels).sum().item()#adding in correct only those whose pred and labels are same\n",
        "    return (correct/total)*100  "
      ],
      "metadata": {
        "id": "SWMBeMAK514Q"
      },
      "execution_count": 6,
      "outputs": []
    },
    {
      "cell_type": "code",
      "source": [
        "net = LeNet().to(device)\n",
        "loss_fn = nn.CrossEntropyLoss()\n",
        "opt = optim.Adam(net.parameters())"
      ],
      "metadata": {
        "id": "OXeVLgST6SIC"
      },
      "execution_count": 11,
      "outputs": []
    },
    {
      "cell_type": "code",
      "source": [
        "loss_epoch=[]\n",
        "epochs=16\n",
        "\n",
        "for i in range(epochs):\n",
        "\n",
        "    for _,data in enumerate(trainloader,0):\n",
        "        \n",
        "        inputs,labels=data\n",
        "        inputs,labels = inputs.to(device), labels.to(device)\n",
        "        output=net(inputs)\n",
        "        loss=loss_fn(output,labels)\n",
        "\n",
        "        loss.backward()\n",
        "\n",
        "        opt.step()\n",
        "\n",
        "        opt.zero_grad()\n",
        "    loss_epoch.append(loss.item())\n",
        "    print('Epochs %d/%d, Train Accuracy=%d,Test Accuracy=%d'%(i,epochs,evaluate(trainloader),evaluate(testloader)))       \n",
        "plt.plot(loss_epoch)\n",
        "plt.show()    "
      ],
      "metadata": {
        "colab": {
          "base_uri": "https://localhost:8080/",
          "height": 543
        },
        "id": "IK843dsi6haS",
        "outputId": "bb3a022c-ac0c-4c5a-a2f5-3c5cb648788e"
      },
      "execution_count": 13,
      "outputs": [
        {
          "output_type": "stream",
          "name": "stdout",
          "text": [
            "Epochs 0/16, Train Accuracy=38,Test Accuracy=38\n",
            "Epochs 1/16, Train Accuracy=42,Test Accuracy=42\n",
            "Epochs 2/16, Train Accuracy=47,Test Accuracy=46\n",
            "Epochs 3/16, Train Accuracy=50,Test Accuracy=49\n",
            "Epochs 4/16, Train Accuracy=52,Test Accuracy=50\n",
            "Epochs 5/16, Train Accuracy=54,Test Accuracy=52\n",
            "Epochs 6/16, Train Accuracy=56,Test Accuracy=53\n",
            "Epochs 7/16, Train Accuracy=57,Test Accuracy=52\n",
            "Epochs 8/16, Train Accuracy=59,Test Accuracy=54\n",
            "Epochs 9/16, Train Accuracy=59,Test Accuracy=54\n",
            "Epochs 10/16, Train Accuracy=61,Test Accuracy=55\n",
            "Epochs 11/16, Train Accuracy=61,Test Accuracy=54\n",
            "Epochs 12/16, Train Accuracy=62,Test Accuracy=54\n",
            "Epochs 13/16, Train Accuracy=63,Test Accuracy=55\n",
            "Epochs 14/16, Train Accuracy=63,Test Accuracy=55\n",
            "Epochs 15/16, Train Accuracy=64,Test Accuracy=56\n"
          ]
        },
        {
          "output_type": "display_data",
          "data": {
            "text/plain": [
              "<Figure size 432x288 with 1 Axes>"
            ],
            "image/png": "[encoded data removed]"
          },
          "metadata": {
            "needs_background": "light"
          }
        }
      ]
    }
  ]
}